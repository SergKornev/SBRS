{
 "cells": [
  {
   "cell_type": "code",
   "execution_count": 2,
   "id": "330b6943",
   "metadata": {},
   "outputs": [
    {
     "name": "stdout",
     "output_type": "stream",
     "text": [
      "D:\\Course\\SBRS\n",
      "D:\\Course\\SBRS\n"
     ]
    }
   ],
   "source": [
    "cd D:\\Course\\SBRS"
   ]
  },
  {
   "cell_type": "code",
   "execution_count": 3,
   "id": "1e8fb473",
   "metadata": {},
   "outputs": [],
   "source": [
    "%load_ext autoreload\n",
    "%autoreload 2\n",
    "\n",
    "from src.algoritms import association_rules as ar\n",
    "import pandas as pd\n",
    "import numpy as np\n",
    "import matplotlib.pyplot as plt\n",
    "import matplotlib.patches as patches\n",
    "import random\n",
    "import unittest\n",
    "from tqdm import tqdm \n",
    "import time "
   ]
  },
  {
   "cell_type": "code",
   "execution_count": 4,
   "id": "6a60421c",
   "metadata": {},
   "outputs": [],
   "source": [
    "AR = ar.AssociationRules(pruning=50, session_key = 'session_key', item_key = 'item_key' )"
   ]
  },
  {
   "cell_type": "code",
   "execution_count": 5,
   "id": "e33a2dea",
   "metadata": {},
   "outputs": [],
   "source": [
    "file_data = 'datasets/onlineretail/online_retail.xlsx'\n",
    "df = pd.read_excel(file_data)"
   ]
  },
  {
   "cell_type": "code",
   "execution_count": 6,
   "id": "defdbbf9",
   "metadata": {},
   "outputs": [],
   "source": [
    "df1 = df.drop(['Description','Quantity','UnitPrice','userid','Country'], axis = 1)"
   ]
  },
  {
   "cell_type": "code",
   "execution_count": 7,
   "id": "3da36991",
   "metadata": {},
   "outputs": [],
   "source": [
    "# DataFrame для обработки\n",
    "df1.rename(columns = {'transactionid' : 'session_key', 'itemid' : 'item_key', 'datetime' : 'time_key'}, inplace = True)"
   ]
  },
  {
   "cell_type": "code",
   "execution_count": 8,
   "id": "cb2fc2a1",
   "metadata": {},
   "outputs": [],
   "source": [
    "# График кол-ва покупок каждого товара \n",
    "def item_hist():\n",
    "    counts_of_items = df1['item_key'].value_counts()\n",
    "    plot_df = pd.DataFrame({'item':counts_of_items.index.to_list(), 'counts':counts_of_items.to_list()})\n",
    "    plot_df = plot_df[plot_df.counts > 1200]\n",
    "\n",
    "    fig, ax = plt.subplots(figsize=(16,10), facecolor='white', dpi= 80)\n",
    "    ax.vlines(x=plot_df.index, ymin=0, ymax=plot_df.counts, color='firebrick', alpha=0.7, linewidth=20)\n",
    "\n",
    "    for i, counts in enumerate(plot_df.counts):\n",
    "        ax.text(i, counts+50, round(counts, 1), horizontalalignment='center')\n",
    "\n",
    "    ax.set_title('Гистограмма кол-ва сессий с товаром', fontdict={'size':22})\n",
    "    ax.set(ylabel='Кол-во сессий', ylim=(0, 3000))\n",
    "    plt.xticks(plot_df.index, plot_df.item, rotation=60, horizontalalignment='right', fontsize=12)\n",
    "\n",
    "    plt.show()\n",
    "    \n",
    "item_hist()"
   ]
  },
  {
   "cell_type": "code",
   "execution_count": null,
   "id": "4d94ab13",
   "metadata": {},
   "outputs": [],
   "source": [
    "# Гистограмма длинный сессий \n",
    "def session_hist():\n",
    "    counts_of_session = df1['session_key'].value_counts()\n",
    "    plot_df = pd.DataFrame({'session':counts_of_session.index.to_list(), 'counts':counts_of_session.to_list()})\n",
    "    plot_df = plot_df[plot_df.counts > 600]\n",
    "\n",
    "    fig, ax = plt.subplots(figsize=(16,10), facecolor='white', dpi= 80)\n",
    "    ax.vlines(x=plot_df.index, ymin=0, ymax=plot_df.counts, color='firebrick', alpha=0.7, linewidth=20)\n",
    "\n",
    "    for i, counts in enumerate(plot_df.counts):\n",
    "        ax.text(i, counts+50, round(counts, 1), horizontalalignment='center')\n",
    "\n",
    "    ax.set_title('Гистограмма кол-ва товаров в сессии', fontdict={'size':22})\n",
    "    ax.set(ylabel='Кол-во товаров', ylim=(0, 1200))\n",
    "    plt.xticks(plot_df.index, plot_df.session, rotation=60, horizontalalignment='right', fontsize=12)\n",
    "\n",
    "    plt.show()\n",
    "    \n",
    "session_hist()\n"
   ]
  },
  {
   "cell_type": "code",
   "execution_count": null,
   "id": "e0b9c762",
   "metadata": {},
   "outputs": [],
   "source": [
    "df1"
   ]
  },
  {
   "cell_type": "code",
   "execution_count": null,
   "id": "ff067922",
   "metadata": {},
   "outputs": [],
   "source": [
    "# Тренировка улучшенным методом Apriori\n",
    "AR.fit(df1)"
   ]
  },
  {
   "cell_type": "code",
   "execution_count": null,
   "id": "6c9a4dbb",
   "metadata": {},
   "outputs": [],
   "source": [
    "# Генерация сессии для тестирования метрики \n",
    "items = df1.item_key.unique()\n",
    "def generating_test_session():\n",
    "    sessions = df1.session_key.unique()\n",
    "    \n",
    "    random_session = random.choice(sessions)\n",
    "    items_arr = np.array(df1[df1['session_key']==random_session].item_key)\n",
    "    return items_arr"
   ]
  },
  {
   "cell_type": "code",
   "execution_count": null,
   "id": "bbb1d82c",
   "metadata": {},
   "outputs": [],
   "source": [
    "# Нахождение ранга элемента сессии\n",
    "def eval_MRR(predictions, item):\n",
    "    for i, tuple_ in enumerate(predictions):\n",
    "        if tuple_[0] == str(item): \n",
    "            return i + 1\n",
    "    else:# тут была ошибка: если элемент не первый, то просто выдавалось 0(else был внутри цикла for)\n",
    "        return 0"
   ]
  },
  {
   "cell_type": "code",
   "execution_count": null,
   "id": "573b43e9",
   "metadata": {},
   "outputs": [],
   "source": [
    "# Вывод списка элементов, которые связанны с текущим \n",
    "def predict(session):\n",
    "    global items\n",
    "    \n",
    "    if len(session)==1:\n",
    "        predictions = AR.predict_next('1',session[0],items)\n",
    "    else:\n",
    "        for i in range(1,len(session)):\n",
    "            session_name = str(i)\n",
    "            AR.predict_next(session_name, session[:i+1], items, skip=True)\n",
    "        predictions = AR.predict_next(session_name,session[-1],items)\n",
    "        \n",
    "    predictions = predictions[predictions>0.655]    \n",
    "    name = predictions.index.to_list()\n",
    "    for i in range(len(name)):\n",
    "        name[i] = str(name[i])\n",
    "    value = predictions.to_list()\n",
    "    prd = [*zip(name, value)]\n",
    "    sort_prd = sorted(prd,key = lambda x : x[1], reverse = True)\n",
    "    \n",
    "    return sort_prd"
   ]
  },
  {
   "cell_type": "code",
   "execution_count": null,
   "id": "e35c79e9",
   "metadata": {
    "scrolled": false
   },
   "outputs": [],
   "source": [
    "# Реализация метрики MRR\n",
    "def MRR(items_arr):\n",
    "    sum = 0\n",
    "    len_items_arr = len(items_arr)-1\n",
    "    if len_items_arr == 0:\n",
    "        return 0\n",
    "    else:\n",
    "        for i in range(0, len_items_arr):\n",
    "            pred = predict(items_arr[:i+1])\n",
    "            try:\n",
    "                if pred == []:\n",
    "                    return 0\n",
    "                else:\n",
    "                    sum += 1/eval_MRR(pred, items_arr[i+1])\n",
    "            except ZeroDivisionError:\n",
    "                    sum += 0\n",
    "    return round(sum / len_items_arr, 4)\n",
    "test_session = generating_test_session()\n",
    "print(test_session)\n",
    "MRR(test_session)"
   ]
  },
  {
   "cell_type": "code",
   "execution_count": null,
   "id": "5cbcf02d",
   "metadata": {},
   "outputs": [],
   "source": [
    "# Тестирование \n",
    "def unit_tests():    \n",
    "    testing_session_562564 = [\n",
    "        22487, 20724, 22356, 20723, 20719, 22144, 22141, 22142, 22147,\n",
    "       22150, 22149, 22501, 20727, 23209, 20725, 23208, 22557]\n",
    "    \n",
    "    testing_session_569998 = [\n",
    "        22573, 22574, 22601, 85066, 21524, 22374, 22727, 22726, 22846,\n",
    "       22848, 23247, 21843, 22045, 23545, 23546, 22406, 22831, 20772,\n",
    "       '35810A', 22629, 23076, 'POST']\n",
    "    \n",
    "    assert MRR(testing_session_562564) == 0.2865, f'Expected 0.2865 but return {MRR(testing_session_562564)}'\n",
    "    assert MRR(testing_session_569998) == 0.119, f'Expected 0.119 but return {MRR(testing_session_569998)}'\n",
    "    assert MRR([]) == 0, f'Expected 0 but return {MRR([])}' \n",
    "    assert MRR([20724]) == 0, f'Expected 0 but return {MRR([20724])}'\n",
    "    \n",
    "unit_tests()"
   ]
  },
  {
   "cell_type": "code",
   "execution_count": null,
   "id": "ad1e566a",
   "metadata": {},
   "outputs": [],
   "source": []
  },
  {
   "cell_type": "code",
   "execution_count": null,
   "id": "a13254c0",
   "metadata": {},
   "outputs": [],
   "source": []
  }
 ],
 "metadata": {
  "kernelspec": {
   "display_name": "Python 3 (ipykernel)",
   "language": "python",
   "name": "python3"
  },
  "language_info": {
   "codemirror_mode": {
    "name": "ipython",
    "version": 3
   },
   "file_extension": ".py",
   "mimetype": "text/x-python",
   "name": "python",
   "nbconvert_exporter": "python",
   "pygments_lexer": "ipython3",
   "version": "3.9.7"
  }
 },
 "nbformat": 4,
 "nbformat_minor": 5
}
