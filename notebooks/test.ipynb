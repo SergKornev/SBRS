{
 "cells": [
  {
   "cell_type": "code",
   "execution_count": 3,
   "metadata": {},
   "outputs": [],
   "source": [
    "%load_ext autoreload\n",
    "%autoreload 2\n",
    "import pandas as pd\n",
    "from mlxtend.preprocessing import TransactionEncoder\n",
    "from mlxtend.frequent_patterns import apriori, association_rules\n",
    "import matplotlib.pyplot as plt\n",
    "import numpy as np \n",
    "from tqdm import tqdm\n",
    "import time\n",
    "import random\n",
    "import networkx as nx\n",
    "import re"
   ]
  },
  {
   "cell_type": "code",
   "execution_count": 4,
   "metadata": {},
   "outputs": [
    {
     "name": "stdout",
     "output_type": "stream",
     "text": [
      "D:\\Course\\SBRS\n"
     ]
    }
   ],
   "source": [
    "%cd .."
   ]
  },
  {
   "cell_type": "code",
   "execution_count": null,
   "metadata": {},
   "outputs": [],
   "source": [
    "file_data = 'datasets/onlineretail/online_retail.xlsx'\n",
    "df = pd.read_excel(file_data)"
   ]
  },
  {
   "cell_type": "code",
   "execution_count": null,
   "metadata": {},
   "outputs": [],
   "source": [
    "df.head(10)"
   ]
  },
  {
   "cell_type": "code",
   "execution_count": null,
   "metadata": {},
   "outputs": [],
   "source": [
    "df.shape"
   ]
  },
  {
   "cell_type": "code",
   "execution_count": null,
   "metadata": {},
   "outputs": [],
   "source": [
    "df = df[['transactionid','itemid', 'userid']]\n",
    "df.fillna(0, inplace=True)\n",
    "df['userid'] = df['userid'].astype('int64')\n",
    "df['itemid'] = df['itemid'].astype('str')\n",
    "df.head()\n"
   ]
  },
  {
   "cell_type": "code",
   "execution_count": null,
   "metadata": {},
   "outputs": [],
   "source": [
    "df.transactionid.unique().shape"
   ]
  },
  {
   "cell_type": "code",
   "execution_count": null,
   "metadata": {},
   "outputs": [],
   "source": [
    "list_df = []\n",
    "for i in tqdm(df.transactionid.unique()[:1001]):\n",
    "    time.sleep(0.00000001)\n",
    "    list_df.append(df[df.transactionid == i].itemid.to_list())\n",
    "list_df"
   ]
  },
  {
   "cell_type": "code",
   "execution_count": null,
   "metadata": {},
   "outputs": [],
   "source": [
    "tr = TransactionEncoder()\n",
    "tr_arr = tr.fit(list_df).transform(list_df)\n",
    "df_trans = pd.DataFrame(tr_arr, columns=tr.columns_)"
   ]
  },
  {
   "cell_type": "code",
   "execution_count": null,
   "metadata": {},
   "outputs": [],
   "source": [
    "df_trans.shape"
   ]
  },
  {
   "cell_type": "code",
   "execution_count": null,
   "metadata": {},
   "outputs": [],
   "source": [
    "frequent_itemsets = apriori(df_trans, min_support = 0.005, use_colnames = True, low_memory=False)\n",
    "frequent_itemsets"
   ]
  },
  {
   "cell_type": "code",
   "execution_count": null,
   "metadata": {
    "scrolled": true
   },
   "outputs": [],
   "source": [
    "rules = association_rules(frequent_itemsets, metric=\"confidence\", min_threshold=0.005)\n",
    "rules"
   ]
  },
  {
   "cell_type": "code",
   "execution_count": null,
   "metadata": {},
   "outputs": [],
   "source": [
    "rules.iloc[9998].antecedents.issubset(('20724','22384')) # проверка наличия подмножетсва в записи"
   ]
  },
  {
   "cell_type": "code",
   "execution_count": null,
   "metadata": {},
   "outputs": [],
   "source": [
    "def draw_network(rules, rules_to_show):\n",
    "  # Ориентированный граф от NetworkX\n",
    "  network = nx.DiGraph()\n",
    "  \n",
    "  # Перебор количества правил для отображения\n",
    "  for i in range(rules_to_show):\n",
    "    \n",
    "    # Добавление узла правила\n",
    "    network.add_nodes_from([\"R\"+str(i)])\n",
    "    for antecedents in rules.iloc[i]['antecedents']: \n",
    "        # Добавление узла-предшественника и ссылки на правило\n",
    "        network.add_nodes_from([antecedents])\n",
    "        network.add_edge(antecedents, \"R\"+str(i),  weight = 2)\n",
    "      \n",
    "    for consequents in rules.iloc[i]['consequents']:\n",
    "        # Добавление узла-последователя и ссылки на правило\n",
    "        network.add_nodes_from([consequents])\n",
    "        network.add_edge(\"R\"+str(i), consequents,  weight = 2)\n",
    "\n",
    "  color_map=[]  \n",
    "  \n",
    "  # Для каждого узла, если это правило, цвет черный, в противном случае - оранжевый.\n",
    "  for node in network:\n",
    "       if re.compile(\"^[R]\\d+$\").fullmatch(node) != None:\n",
    "            color_map.append('black')\n",
    "       else:\n",
    "            color_map.append('orange')\n",
    "  \n",
    "  # Расположение узлов с помощью spring layout\n",
    "  pos = nx.spring_layout(network, k=16, scale=1)\n",
    "  # Построение сетевого графа\n",
    "  nx.draw(network, pos, node_color = color_map, font_size=8)            \n",
    "  \n",
    "  # Сдвиг расположения текста вверх\n",
    "  for p in pos:  \n",
    "      pos[p][1] += 0.12\n",
    "\n",
    "  nx.draw_networkx_labels(network, pos)\n",
    "  plt.title(\"Network Graph for Association Rules\")\n",
    "  plt.show()\n",
    "\n",
    "draw_network(rules, 10)"
   ]
  },
  {
   "cell_type": "code",
   "execution_count": null,
   "metadata": {},
   "outputs": [],
   "source": [
    "test_session = list_df[random.randint(0, len(list_df))]\n",
    "test_session"
   ]
  },
  {
   "cell_type": "code",
   "execution_count": null,
   "metadata": {},
   "outputs": [],
   "source": [
    "k = frozenset({'2021', '20201'})\n",
    "tuple(list(k))"
   ]
  },
  {
   "cell_type": "code",
   "execution_count": null,
   "metadata": {},
   "outputs": [],
   "source": [
    "# наследник + его оценка (conviction, lift)\n",
    "def foo(dataframe, session):\n",
    "    list_of_rank = rules[rules.antecedents == frozenset([str(session)])][['consequents','conviction']].\\\n",
    "                            sort_values(['conviction'], ascending=False).\\\n",
    "                            values.\\\n",
    "                            tolist()\n",
    "    return list_of_rank"
   ]
  },
  {
   "cell_type": "code",
   "execution_count": null,
   "metadata": {},
   "outputs": [],
   "source": [
    "foo(rules, 22726)"
   ]
  },
  {
   "cell_type": "code",
   "execution_count": null,
   "metadata": {},
   "outputs": [],
   "source": [
    "# на большом наборе данных работает просто ужасно + мы не учитываем множества\n",
    "def MRR(test_session):\n",
    "    sum = 0\n",
    "    len_test_session = len(test_session)-1\n",
    "    for i in range(len(test_session)-1):\n",
    "        temp = foo(rules, test_session[i])\n",
    "        next_item = test_session[i+1]\n",
    "        for j in range(len(temp)):\n",
    "            if frozenset([next_item]) == temp[j][0]:\n",
    "                sum += 1 / (j+1)\n",
    "                break\n",
    "        else:\n",
    "            sum += 0\n",
    "    return round(sum/len_test_session,3)\n",
    "MRR(test_session)"
   ]
  },
  {
   "cell_type": "code",
   "execution_count": 2,
   "metadata": {},
   "outputs": [
    {
     "data": {
      "text/plain": [
       "22.17709403377303"
      ]
     },
     "execution_count": 2,
     "metadata": {},
     "output_type": "execute_result"
    }
   ],
   "source": [
    "1/((1/2 + 1/46 + 1/323 + 1/39 + 1/28)/13)"
   ]
  },
  {
   "cell_type": "code",
   "execution_count": null,
   "metadata": {},
   "outputs": [],
   "source": []
  }
 ],
 "metadata": {
  "kernelspec": {
   "display_name": "Python 3 (ipykernel)",
   "language": "python",
   "name": "python3"
  },
  "language_info": {
   "codemirror_mode": {
    "name": "ipython",
    "version": 3
   },
   "file_extension": ".py",
   "mimetype": "text/x-python",
   "name": "python",
   "nbconvert_exporter": "python",
   "pygments_lexer": "ipython3",
   "version": "3.9.7"
  }
 },
 "nbformat": 4,
 "nbformat_minor": 2
}
