{
 "cells": [
  {
   "cell_type": "code",
   "execution_count": 1,
   "id": "76da3fc4",
   "metadata": {},
   "outputs": [
    {
     "name": "stdout",
     "output_type": "stream",
     "text": [
      "D:\\Course\\SBRS\n"
     ]
    }
   ],
   "source": [
    "%cd .."
   ]
  },
  {
   "cell_type": "code",
   "execution_count": 2,
   "id": "5187bb57",
   "metadata": {},
   "outputs": [],
   "source": [
    "import numpy as np\n",
    "import pandas as pd\n",
    "import time\n",
    "from tqdm import tqdm"
   ]
  },
  {
   "cell_type": "code",
   "execution_count": 3,
   "id": "d91853a4",
   "metadata": {},
   "outputs": [],
   "source": [
    "file_data = 'datasets/onlineretail/online_retail.xlsx'\n",
    "df = pd.read_csv(file_data)\n",
    "df = df[:1001]"
   ]
  },
  {
   "cell_type": "code",
   "execution_count": 4,
   "id": "d7dcda66",
   "metadata": {},
   "outputs": [],
   "source": [
    "# df = df.drop(['Description','Quantity','UnitPrice','userid','Country','datetime'], axis = 1)"
   ]
  },
  {
   "cell_type": "code",
   "execution_count": 7,
   "id": "4c3d48e7",
   "metadata": {},
   "outputs": [],
   "source": [
    "df.rename(columns = {'session_key' : 'trans', 'item_key' : 'item'}, inplace = True)"
   ]
  },
  {
   "cell_type": "code",
   "execution_count": 8,
   "id": "1b2b5663",
   "metadata": {},
   "outputs": [
    {
     "data": {
      "text/html": [
       "<div>\n",
       "<style scoped>\n",
       "    .dataframe tbody tr th:only-of-type {\n",
       "        vertical-align: middle;\n",
       "    }\n",
       "\n",
       "    .dataframe tbody tr th {\n",
       "        vertical-align: top;\n",
       "    }\n",
       "\n",
       "    .dataframe thead th {\n",
       "        text-align: right;\n",
       "    }\n",
       "</style>\n",
       "<table border=\"1\" class=\"dataframe\">\n",
       "  <thead>\n",
       "    <tr style=\"text-align: right;\">\n",
       "      <th></th>\n",
       "      <th>trans</th>\n",
       "      <th>item</th>\n",
       "      <th>time_key</th>\n",
       "    </tr>\n",
       "  </thead>\n",
       "  <tbody>\n",
       "    <tr>\n",
       "      <th>0</th>\n",
       "      <td>536365</td>\n",
       "      <td>85123A</td>\n",
       "      <td>2010-12-01 08:26:00</td>\n",
       "    </tr>\n",
       "    <tr>\n",
       "      <th>1</th>\n",
       "      <td>536365</td>\n",
       "      <td>71053</td>\n",
       "      <td>2010-12-01 08:26:00</td>\n",
       "    </tr>\n",
       "    <tr>\n",
       "      <th>2</th>\n",
       "      <td>536365</td>\n",
       "      <td>84406B</td>\n",
       "      <td>2010-12-01 08:26:00</td>\n",
       "    </tr>\n",
       "    <tr>\n",
       "      <th>3</th>\n",
       "      <td>536365</td>\n",
       "      <td>84029G</td>\n",
       "      <td>2010-12-01 08:26:00</td>\n",
       "    </tr>\n",
       "    <tr>\n",
       "      <th>4</th>\n",
       "      <td>536365</td>\n",
       "      <td>84029E</td>\n",
       "      <td>2010-12-01 08:26:00</td>\n",
       "    </tr>\n",
       "  </tbody>\n",
       "</table>\n",
       "</div>"
      ],
      "text/plain": [
       "    trans    item             time_key\n",
       "0  536365  85123A  2010-12-01 08:26:00\n",
       "1  536365   71053  2010-12-01 08:26:00\n",
       "2  536365  84406B  2010-12-01 08:26:00\n",
       "3  536365  84029G  2010-12-01 08:26:00\n",
       "4  536365  84029E  2010-12-01 08:26:00"
      ]
     },
     "execution_count": 8,
     "metadata": {},
     "output_type": "execute_result"
    }
   ],
   "source": [
    "df.head()"
   ]
  },
  {
   "cell_type": "code",
   "execution_count": 9,
   "id": "312ba875",
   "metadata": {},
   "outputs": [],
   "source": [
    "df['item'] = df['item'].astype('str')"
   ]
  },
  {
   "cell_type": "code",
   "execution_count": 10,
   "id": "225a24a9",
   "metadata": {},
   "outputs": [],
   "source": [
    "df.trans = pd.to_numeric(df.trans, errors='coerce')\n",
    "df.dropna(axis = 0, how = 'all', inplace = True)\n",
    "df.trans = df.trans.astype(str)"
   ]
  },
  {
   "cell_type": "code",
   "execution_count": 11,
   "id": "17175d80",
   "metadata": {},
   "outputs": [],
   "source": [
    "df = df.groupby('trans').agg(lambda x: x.tolist())"
   ]
  },
  {
   "cell_type": "code",
   "execution_count": 12,
   "id": "0472187a",
   "metadata": {},
   "outputs": [
    {
     "data": {
      "text/html": [
       "<div>\n",
       "<style scoped>\n",
       "    .dataframe tbody tr th:only-of-type {\n",
       "        vertical-align: middle;\n",
       "    }\n",
       "\n",
       "    .dataframe tbody tr th {\n",
       "        vertical-align: top;\n",
       "    }\n",
       "\n",
       "    .dataframe thead th {\n",
       "        text-align: right;\n",
       "    }\n",
       "</style>\n",
       "<table border=\"1\" class=\"dataframe\">\n",
       "  <thead>\n",
       "    <tr style=\"text-align: right;\">\n",
       "      <th></th>\n",
       "      <th>item</th>\n",
       "      <th>time_key</th>\n",
       "    </tr>\n",
       "    <tr>\n",
       "      <th>trans</th>\n",
       "      <th></th>\n",
       "      <th></th>\n",
       "    </tr>\n",
       "  </thead>\n",
       "  <tbody>\n",
       "    <tr>\n",
       "      <th>536365.0</th>\n",
       "      <td>[85123A, 71053, 84406B, 84029G, 84029E, 22752,...</td>\n",
       "      <td>[2010-12-01 08:26:00, 2010-12-01 08:26:00, 201...</td>\n",
       "    </tr>\n",
       "    <tr>\n",
       "      <th>536366.0</th>\n",
       "      <td>[22633, 22632]</td>\n",
       "      <td>[2010-12-01 08:28:00, 2010-12-01 08:28:00]</td>\n",
       "    </tr>\n",
       "    <tr>\n",
       "      <th>536367.0</th>\n",
       "      <td>[84879, 22745, 22748, 22749, 22310, 84969, 226...</td>\n",
       "      <td>[2010-12-01 08:34:00, 2010-12-01 08:34:00, 201...</td>\n",
       "    </tr>\n",
       "    <tr>\n",
       "      <th>536368.0</th>\n",
       "      <td>[22960, 22913, 22912, 22914]</td>\n",
       "      <td>[2010-12-01 08:34:00, 2010-12-01 08:34:00, 201...</td>\n",
       "    </tr>\n",
       "    <tr>\n",
       "      <th>536369.0</th>\n",
       "      <td>[21756]</td>\n",
       "      <td>[2010-12-01 08:35:00]</td>\n",
       "    </tr>\n",
       "  </tbody>\n",
       "</table>\n",
       "</div>"
      ],
      "text/plain": [
       "                                                       item  \\\n",
       "trans                                                         \n",
       "536365.0  [85123A, 71053, 84406B, 84029G, 84029E, 22752,...   \n",
       "536366.0                                     [22633, 22632]   \n",
       "536367.0  [84879, 22745, 22748, 22749, 22310, 84969, 226...   \n",
       "536368.0                       [22960, 22913, 22912, 22914]   \n",
       "536369.0                                            [21756]   \n",
       "\n",
       "                                                   time_key  \n",
       "trans                                                        \n",
       "536365.0  [2010-12-01 08:26:00, 2010-12-01 08:26:00, 201...  \n",
       "536366.0         [2010-12-01 08:28:00, 2010-12-01 08:28:00]  \n",
       "536367.0  [2010-12-01 08:34:00, 2010-12-01 08:34:00, 201...  \n",
       "536368.0  [2010-12-01 08:34:00, 2010-12-01 08:34:00, 201...  \n",
       "536369.0                              [2010-12-01 08:35:00]  "
      ]
     },
     "execution_count": 12,
     "metadata": {},
     "output_type": "execute_result"
    }
   ],
   "source": [
    "df.head()"
   ]
  },
  {
   "cell_type": "code",
   "execution_count": 13,
   "id": "e12b6221",
   "metadata": {},
   "outputs": [],
   "source": [
    "class Eclat:\n",
    "    #инициализация объекта класса\n",
    "    def __init__(self, min_support = 0.01, max_items = 5, min_items = 2):\n",
    "        self.min_support = min_support\n",
    "        self.max_items = max_items\n",
    "        self.min_items = min_items\n",
    "        self.item_lst = list()\n",
    "        self.item_len = 0\n",
    "        self.item_dict = dict()\n",
    "        self.final_dict = dict()\n",
    "        self.data_size = 0\n",
    "    \n",
    "    #создание словаря из ненулевых объектов из всех транзакций (вертикальный датасет)\n",
    "    def read_data(self, dataset):\n",
    "        for index, row in dataset.iterrows():\n",
    "            row_wo_na = set(row[0])\n",
    "            for item in row_wo_na:\n",
    "                item = item.strip()\n",
    "                if item in self.item_dict:\n",
    "                    self.item_dict[item][0] += 1\n",
    "                else:\n",
    "                    self.item_dict.setdefault(item, []).append(1)\n",
    "                self.item_dict[item].append(index)\n",
    "        #задаем переменные экземпляра (instance variables)\n",
    "        self.data_size = dataset.shape[0]\n",
    "        self.item_lst = list(self.item_dict.keys())\n",
    "        self.item_len = len(self.item_lst)\n",
    "        self.min_support = self.min_support * self.data_size\n",
    "        #print (\"min_supp\", self.min_support)\n",
    "        \n",
    "    #рекурсивный метод для поиска всех ItemSet по алгоритму Eclat\n",
    "    #структура данных: {Item: [Supp number, tid1, tid2, tid3, ...]}\n",
    "    def recur_eclat(self, item_name, tids_array, minsupp, num_items, k_start):\n",
    "        if int(tids_array[0]) >= minsupp and num_items <= self.max_items:\n",
    "            for k in range(k_start+1, self.item_len):\n",
    "                if self.item_dict[self.item_lst[k]][0] >= minsupp:\n",
    "                    new_item = item_name + \" | \" + self.item_lst[k]\n",
    "                    new_tids = np.intersect1d(tids_array[1:], self.item_dict[self.item_lst[k]][1:])\n",
    "                    new_tids_size = new_tids.size\n",
    "                    new_tids = np.insert(new_tids, 0, new_tids_size)\n",
    "                    if new_tids_size >= minsupp:\n",
    "                        if num_items >= self.min_items: self.final_dict.update({new_item: new_tids})\n",
    "                        self.recur_eclat(new_item, new_tids, minsupp, num_items+1, k)\n",
    "    \n",
    "    #последовательный вызов функций определенных выше\n",
    "    def fit(self, dataset):\n",
    "        i = 0\n",
    "        self.read_data(dataset)\n",
    "        for w in tqdm(self.item_lst):\n",
    "            time.sleep(0.0000001)\n",
    "            self.recur_eclat(w, self.item_dict[w], self.min_support, 2, i)\n",
    "            i+=1\n",
    "        return self\n",
    "        \n",
    "    #вывод в форме словаря {ItemSet: support(ItemSet)}\n",
    "    def transform(self):\n",
    "        return {k: \"{0:.4f}%\".format((int(v[0])+0.0)/self.data_size*100) for k, v in self.final_dict.items()}"
   ]
  },
  {
   "cell_type": "code",
   "execution_count": 14,
   "id": "7fb554c9",
   "metadata": {},
   "outputs": [],
   "source": [
    "model = Eclat(min_support = 0.0001, max_items = 4, min_items = 3)"
   ]
  },
  {
   "cell_type": "code",
   "execution_count": null,
   "id": "4ed0f1be",
   "metadata": {},
   "outputs": [
    {
     "name": "stderr",
     "output_type": "stream",
     "text": [
      "  8%|███████████████▏                                                                                                                                                                               | 47/591 [04:53<1:46:41, 11.77s/it]"
     ]
    }
   ],
   "source": [
    "%%time\n",
    "model.fit(df)"
   ]
  },
  {
   "cell_type": "code",
   "execution_count": null,
   "id": "95a566d5",
   "metadata": {},
   "outputs": [],
   "source": [
    "rules = model.transform()"
   ]
  },
  {
   "cell_type": "code",
   "execution_count": null,
   "id": "3dc776c9",
   "metadata": {},
   "outputs": [],
   "source": [
    "rules"
   ]
  },
  {
   "cell_type": "code",
   "execution_count": null,
   "id": "45ec492a",
   "metadata": {},
   "outputs": [],
   "source": [
    "84029E | 84406B | 21730 '| ***** ' in rules.keys()"
   ]
  },
  {
   "cell_type": "code",
   "execution_count": null,
   "id": "2faed3c3",
   "metadata": {},
   "outputs": [],
   "source": [
    "df.head()"
   ]
  },
  {
   "cell_type": "code",
   "execution_count": null,
   "id": "8b62dd1e",
   "metadata": {},
   "outputs": [],
   "source": []
  }
 ],
 "metadata": {
  "kernelspec": {
   "display_name": "Python 3 (ipykernel)",
   "language": "python",
   "name": "python3"
  },
  "language_info": {
   "codemirror_mode": {
    "name": "ipython",
    "version": 3
   },
   "file_extension": ".py",
   "mimetype": "text/x-python",
   "name": "python",
   "nbconvert_exporter": "python",
   "pygments_lexer": "ipython3",
   "version": "3.9.7"
  }
 },
 "nbformat": 4,
 "nbformat_minor": 5
}
