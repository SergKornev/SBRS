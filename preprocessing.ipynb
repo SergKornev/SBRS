{
 "cells": [
  {
   "cell_type": "code",
   "execution_count": null,
   "metadata": {},
   "outputs": [],
   "source": [
    "%load_ext autoreload\n",
    "%autoreload 2\n",
    "import numpy as np\n",
    "import pandas as pd \n",
    "import matplotlib.pyplot as plt \n",
    "import datetime\n",
    "import calendar\n",
    "from scipy import sparse\n",
    "from pandas.api.types import CategoricalDtype\n",
    "import time\n",
    "from tqdm import tqdm"
   ]
  },
  {
   "cell_type": "code",
   "execution_count": null,
   "metadata": {},
   "outputs": [],
   "source": [
    "cd D:\\Course\\SBRS"
   ]
  },
  {
   "cell_type": "code",
   "execution_count": null,
   "metadata": {},
   "outputs": [],
   "source": [
    "# ctg_file = 'datasets/retailrocket/category_tree.csv'\n",
    "events_file = 'datasets/retailrocket/events.csv'\n",
    "# item_prop_1 = 'datasets/retailrocket/item_properties_part1.csv'\n",
    "# item_prop_2 = 'datasets/retailrocket/item_properties_part2.csv'"
   ]
  },
  {
   "cell_type": "code",
   "execution_count": null,
   "metadata": {},
   "outputs": [],
   "source": [
    "# ctg_df = pd.read_csv(ctg_file)\n",
    "events_df = pd.read_csv(events_file)\n",
    "# item_prop_1_df = pd.read_csv(item_prop_1)\n",
    "# item_prop_2_df = pd.read_csv(item_prop_2)\n"
   ]
  },
  {
   "cell_type": "code",
   "execution_count": null,
   "metadata": {},
   "outputs": [],
   "source": [
    "events_df.head()"
   ]
  },
  {
   "cell_type": "code",
   "execution_count": null,
   "metadata": {},
   "outputs": [],
   "source": [
    "events_actions = {\n",
    "    'view': 1,\n",
    "    'addtocart':2,\n",
    "    'transaction':3\n",
    "}"
   ]
  },
  {
   "cell_type": "code",
   "execution_count": null,
   "metadata": {},
   "outputs": [],
   "source": [
    "events_df.event = [events_actions[item] for item in events_df.event]"
   ]
  },
  {
   "cell_type": "code",
   "execution_count": null,
   "metadata": {},
   "outputs": [],
   "source": [
    "events_df.head()"
   ]
  },
  {
   "cell_type": "code",
   "execution_count": null,
   "metadata": {},
   "outputs": [],
   "source": [
    "events_df['event_date'] = pd.to_datetime(events_df['timestamp'])\n",
    "events_df = events_df.drop('timestamp', axis=1)\n"
   ]
  },
  {
   "cell_type": "code",
   "execution_count": null,
   "metadata": {},
   "outputs": [],
   "source": [
    "events_df['date'] = events_df.event_date.dt.date\n",
    "events_df['time'] = events_df.event_date.dt.time\n",
    "events_df['year'] = events_df.event_date.dt.year\n",
    "events_df['month'] = events_df.event_date.dt.month\n",
    "events_df['day'] = events_df.event_date.dt.day\n",
    "events_df['hour'] = events_df.event_date.dt.hour\n",
    "events_df['minute'] = events_df.event_date.dt.minute\n",
    "events_df['sec'] = events_df.event_date.dt.second\n",
    "events_df = events_df.drop(['event_date','time','date'], axis=1)"
   ]
  },
  {
   "cell_type": "code",
   "execution_count": null,
   "metadata": {},
   "outputs": [],
   "source": [
    "events_df.head(1000000)"
   ]
  },
  {
   "cell_type": "code",
   "execution_count": null,
   "metadata": {},
   "outputs": [],
   "source": [
    "new = events_df.sort_values('visitorid')\n",
    "new.head(10000)"
   ]
  },
  {
   "cell_type": "code",
   "execution_count": null,
   "metadata": {},
   "outputs": [],
   "source": [
    "list_df = []\n",
    "for i in tqdm(range(len(events_df.visitorid.unique()))):\n",
    "    tqdm.sleep(1)\n",
    "    list_df.append(events_df[events_df.visitorid == i].itemid.to_list())\n",
    "list_df"
   ]
  },
  {
   "cell_type": "code",
   "execution_count": null,
   "metadata": {},
   "outputs": [],
   "source": [
    "events_df.transactionid.fillna(-1, inplace=True)"
   ]
  },
  {
   "cell_type": "code",
   "execution_count": null,
   "metadata": {},
   "outputs": [],
   "source": [
    "events_df.head()"
   ]
  },
  {
   "cell_type": "code",
   "execution_count": null,
   "metadata": {},
   "outputs": [],
   "source": [
    "users = events_df.visitorid.unique()\n",
    "items = events_df.itemid.unique()\n",
    "shape = (len(users),len(items))"
   ]
  },
  {
   "cell_type": "code",
   "execution_count": null,
   "metadata": {},
   "outputs": [],
   "source": [
    "# Categorical coding\n",
    "users_cat = CategoricalDtype(categories=sorted(users), ordered=True)\n",
    "items_cat = CategoricalDtype(categories=sorted(items), ordered=True)\n",
    "users_index = events_df.visitorid.astype(users_cat).cat.codes\n",
    "items_index = events_df.itemid.astype(items_cat).cat.codes"
   ]
  },
  {
   "cell_type": "code",
   "execution_count": null,
   "metadata": {},
   "outputs": [],
   "source": [
    "# To csr\n",
    "coo = sparse.coo_matrix((events_df.event, (users_index, items_index)), shape=shape)\n",
    "csr = coo.tocsr()"
   ]
  },
  {
   "cell_type": "code",
   "execution_count": null,
   "metadata": {},
   "outputs": [],
   "source": [
    "# Все записи (относящиеся к одному пользоветелю), временной промежуток между которыми менее 10 минут, - сессия \n"
   ]
  }
 ],
 "metadata": {
  "kernelspec": {
   "display_name": "Python 3 (ipykernel)",
   "language": "python",
   "name": "python3"
  },
  "language_info": {
   "codemirror_mode": {
    "name": "ipython",
    "version": 3
   },
   "file_extension": ".py",
   "mimetype": "text/x-python",
   "name": "python",
   "nbconvert_exporter": "python",
   "pygments_lexer": "ipython3",
   "version": "3.9.7"
  },
  "vscode": {
   "interpreter": {
    "hash": "c4144502bc13ebce73300aa90d803ae8113d6f2888ed085cc234970d202747a9"
   }
  }
 },
 "nbformat": 4,
 "nbformat_minor": 2
}
